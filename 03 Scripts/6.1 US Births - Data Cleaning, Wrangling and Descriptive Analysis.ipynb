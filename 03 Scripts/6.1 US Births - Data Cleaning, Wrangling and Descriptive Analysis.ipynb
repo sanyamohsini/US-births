{
 "cells": [
  {
   "cell_type": "markdown",
   "id": "74c92385",
   "metadata": {},
   "source": [
    "# 6.1 Sourcing Open Data\n",
    "# US Births - Data Cleaning, Wrangling and Descriptive Analysis"
   ]
  },
  {
   "cell_type": "markdown",
   "id": "d966500f",
   "metadata": {},
   "source": [
    "## This script contains:\n",
    "\n",
    "## 01. Import Libraries and Data\n",
    "## 02. Exploring/Descriptive Analysis\n",
    "## 03. Data Wrangling\n",
    "## 04. Data Quality/Consistency\n",
    "## 05. Exporting Data Frame"
   ]
  },
  {
   "cell_type": "markdown",
   "id": "edf0bee7",
   "metadata": {},
   "source": [
    "## 01. Import Libraries and Data"
   ]
  },
  {
   "cell_type": "code",
   "execution_count": 2,
   "id": "cfff17fd",
   "metadata": {},
   "outputs": [],
   "source": [
    "import pandas as pd\n",
    "import numpy as np\n",
    "import os"
   ]
  },
  {
   "cell_type": "code",
   "execution_count": 3,
   "id": "8a0a0ea0",
   "metadata": {},
   "outputs": [],
   "source": [
    "# Folder Path\n",
    "\n",
    "path = r'/Users/sanyamohsini/Desktop/CareerFoundry_Data Analytics/Achievement 6'"
   ]
  },
  {
   "cell_type": "code",
   "execution_count": 4,
   "id": "e3dde184",
   "metadata": {},
   "outputs": [
    {
     "data": {
      "text/plain": [
       "'/Users/sanyamohsini/Desktop/CareerFoundry_Data Analytics/Achievement 6'"
      ]
     },
     "execution_count": 4,
     "metadata": {},
     "output_type": "execute_result"
    }
   ],
   "source": [
    "path"
   ]
  },
  {
   "cell_type": "code",
   "execution_count": 5,
   "id": "dbd284a8",
   "metadata": {},
   "outputs": [],
   "source": [
    "# Import us_births.csv\n",
    "\n",
    "us_births = pd.read_csv(os.path.join(path, '02 Data', 'Original data', 'us_births_2016_2021.csv'), index_col = False)"
   ]
  },
  {
   "cell_type": "markdown",
   "id": "ee501b7f",
   "metadata": {},
   "source": [
    "## 02. Exploring / Descriptive Analysis"
   ]
  },
  {
   "cell_type": "code",
   "execution_count": 6,
   "id": "979fe90d",
   "metadata": {},
   "outputs": [
    {
     "data": {
      "text/html": [
       "<div>\n",
       "<style scoped>\n",
       "    .dataframe tbody tr th:only-of-type {\n",
       "        vertical-align: middle;\n",
       "    }\n",
       "\n",
       "    .dataframe tbody tr th {\n",
       "        vertical-align: top;\n",
       "    }\n",
       "\n",
       "    .dataframe thead th {\n",
       "        text-align: right;\n",
       "    }\n",
       "</style>\n",
       "<table border=\"1\" class=\"dataframe\">\n",
       "  <thead>\n",
       "    <tr style=\"text-align: right;\">\n",
       "      <th></th>\n",
       "      <th>State</th>\n",
       "      <th>State Abbreviation</th>\n",
       "      <th>Year</th>\n",
       "      <th>Gender</th>\n",
       "      <th>Education Level of Mother</th>\n",
       "      <th>Education Level Code</th>\n",
       "      <th>Number of Births</th>\n",
       "      <th>Average Age of Mother (years)</th>\n",
       "      <th>Average Birth Weight (g)</th>\n",
       "    </tr>\n",
       "  </thead>\n",
       "  <tbody>\n",
       "    <tr>\n",
       "      <th>0</th>\n",
       "      <td>Alabama</td>\n",
       "      <td>AL</td>\n",
       "      <td>2016</td>\n",
       "      <td>F</td>\n",
       "      <td>8th grade or less</td>\n",
       "      <td>1</td>\n",
       "      <td>1052</td>\n",
       "      <td>27.8</td>\n",
       "      <td>3116.9</td>\n",
       "    </tr>\n",
       "    <tr>\n",
       "      <th>1</th>\n",
       "      <td>Alabama</td>\n",
       "      <td>AL</td>\n",
       "      <td>2016</td>\n",
       "      <td>F</td>\n",
       "      <td>9th through 12th grade with no diploma</td>\n",
       "      <td>2</td>\n",
       "      <td>3436</td>\n",
       "      <td>24.1</td>\n",
       "      <td>3040.0</td>\n",
       "    </tr>\n",
       "    <tr>\n",
       "      <th>2</th>\n",
       "      <td>Alabama</td>\n",
       "      <td>AL</td>\n",
       "      <td>2016</td>\n",
       "      <td>F</td>\n",
       "      <td>High school graduate or GED completed</td>\n",
       "      <td>3</td>\n",
       "      <td>8777</td>\n",
       "      <td>25.4</td>\n",
       "      <td>3080.0</td>\n",
       "    </tr>\n",
       "    <tr>\n",
       "      <th>3</th>\n",
       "      <td>Alabama</td>\n",
       "      <td>AL</td>\n",
       "      <td>2016</td>\n",
       "      <td>F</td>\n",
       "      <td>Some college credit, but not a degree</td>\n",
       "      <td>4</td>\n",
       "      <td>6453</td>\n",
       "      <td>26.7</td>\n",
       "      <td>3121.9</td>\n",
       "    </tr>\n",
       "    <tr>\n",
       "      <th>4</th>\n",
       "      <td>Alabama</td>\n",
       "      <td>AL</td>\n",
       "      <td>2016</td>\n",
       "      <td>F</td>\n",
       "      <td>Associate degree (AA, AS)</td>\n",
       "      <td>5</td>\n",
       "      <td>2227</td>\n",
       "      <td>28.9</td>\n",
       "      <td>3174.3</td>\n",
       "    </tr>\n",
       "  </tbody>\n",
       "</table>\n",
       "</div>"
      ],
      "text/plain": [
       "     State State Abbreviation  Year Gender  \\\n",
       "0  Alabama                 AL  2016      F   \n",
       "1  Alabama                 AL  2016      F   \n",
       "2  Alabama                 AL  2016      F   \n",
       "3  Alabama                 AL  2016      F   \n",
       "4  Alabama                 AL  2016      F   \n",
       "\n",
       "                Education Level of Mother  Education Level Code  \\\n",
       "0                       8th grade or less                     1   \n",
       "1  9th through 12th grade with no diploma                     2   \n",
       "2   High school graduate or GED completed                     3   \n",
       "3   Some college credit, but not a degree                     4   \n",
       "4               Associate degree (AA, AS)                     5   \n",
       "\n",
       "   Number of Births  Average Age of Mother (years)  Average Birth Weight (g)  \n",
       "0              1052                           27.8                    3116.9  \n",
       "1              3436                           24.1                    3040.0  \n",
       "2              8777                           25.4                    3080.0  \n",
       "3              6453                           26.7                    3121.9  \n",
       "4              2227                           28.9                    3174.3  "
      ]
     },
     "execution_count": 6,
     "metadata": {},
     "output_type": "execute_result"
    }
   ],
   "source": [
    "us_births.head()"
   ]
  },
  {
   "cell_type": "code",
   "execution_count": 7,
   "id": "929e683b",
   "metadata": {},
   "outputs": [
    {
     "data": {
      "text/html": [
       "<div>\n",
       "<style scoped>\n",
       "    .dataframe tbody tr th:only-of-type {\n",
       "        vertical-align: middle;\n",
       "    }\n",
       "\n",
       "    .dataframe tbody tr th {\n",
       "        vertical-align: top;\n",
       "    }\n",
       "\n",
       "    .dataframe thead th {\n",
       "        text-align: right;\n",
       "    }\n",
       "</style>\n",
       "<table border=\"1\" class=\"dataframe\">\n",
       "  <thead>\n",
       "    <tr style=\"text-align: right;\">\n",
       "      <th></th>\n",
       "      <th>State</th>\n",
       "      <th>State Abbreviation</th>\n",
       "      <th>Year</th>\n",
       "      <th>Gender</th>\n",
       "      <th>Education Level of Mother</th>\n",
       "      <th>Education Level Code</th>\n",
       "      <th>Number of Births</th>\n",
       "      <th>Average Age of Mother (years)</th>\n",
       "      <th>Average Birth Weight (g)</th>\n",
       "    </tr>\n",
       "  </thead>\n",
       "  <tbody>\n",
       "    <tr>\n",
       "      <th>5491</th>\n",
       "      <td>Wyoming</td>\n",
       "      <td>WY</td>\n",
       "      <td>2021</td>\n",
       "      <td>M</td>\n",
       "      <td>Associate degree (AA, AS)</td>\n",
       "      <td>5</td>\n",
       "      <td>401</td>\n",
       "      <td>29.2</td>\n",
       "      <td>3261.1</td>\n",
       "    </tr>\n",
       "    <tr>\n",
       "      <th>5492</th>\n",
       "      <td>Wyoming</td>\n",
       "      <td>WY</td>\n",
       "      <td>2021</td>\n",
       "      <td>M</td>\n",
       "      <td>Bachelor's degree (BA, AB, BS)</td>\n",
       "      <td>6</td>\n",
       "      <td>657</td>\n",
       "      <td>30.7</td>\n",
       "      <td>3286.0</td>\n",
       "    </tr>\n",
       "    <tr>\n",
       "      <th>5493</th>\n",
       "      <td>Wyoming</td>\n",
       "      <td>WY</td>\n",
       "      <td>2021</td>\n",
       "      <td>M</td>\n",
       "      <td>Master's degree (MA, MS, MEng, MEd, MSW, MBA)</td>\n",
       "      <td>7</td>\n",
       "      <td>261</td>\n",
       "      <td>33.0</td>\n",
       "      <td>3249.3</td>\n",
       "    </tr>\n",
       "    <tr>\n",
       "      <th>5494</th>\n",
       "      <td>Wyoming</td>\n",
       "      <td>WY</td>\n",
       "      <td>2021</td>\n",
       "      <td>M</td>\n",
       "      <td>Doctorate (PhD, EdD) or Professional Degree (M...</td>\n",
       "      <td>8</td>\n",
       "      <td>72</td>\n",
       "      <td>33.3</td>\n",
       "      <td>3262.0</td>\n",
       "    </tr>\n",
       "    <tr>\n",
       "      <th>5495</th>\n",
       "      <td>Wyoming</td>\n",
       "      <td>WY</td>\n",
       "      <td>2021</td>\n",
       "      <td>M</td>\n",
       "      <td>Unknown or Not Stated</td>\n",
       "      <td>-9</td>\n",
       "      <td>41</td>\n",
       "      <td>29.2</td>\n",
       "      <td>3177.5</td>\n",
       "    </tr>\n",
       "  </tbody>\n",
       "</table>\n",
       "</div>"
      ],
      "text/plain": [
       "        State State Abbreviation  Year Gender  \\\n",
       "5491  Wyoming                 WY  2021      M   \n",
       "5492  Wyoming                 WY  2021      M   \n",
       "5493  Wyoming                 WY  2021      M   \n",
       "5494  Wyoming                 WY  2021      M   \n",
       "5495  Wyoming                 WY  2021      M   \n",
       "\n",
       "                              Education Level of Mother  Education Level Code  \\\n",
       "5491                          Associate degree (AA, AS)                     5   \n",
       "5492                     Bachelor's degree (BA, AB, BS)                     6   \n",
       "5493      Master's degree (MA, MS, MEng, MEd, MSW, MBA)                     7   \n",
       "5494  Doctorate (PhD, EdD) or Professional Degree (M...                     8   \n",
       "5495                              Unknown or Not Stated                    -9   \n",
       "\n",
       "      Number of Births  Average Age of Mother (years)  \\\n",
       "5491               401                           29.2   \n",
       "5492               657                           30.7   \n",
       "5493               261                           33.0   \n",
       "5494                72                           33.3   \n",
       "5495                41                           29.2   \n",
       "\n",
       "      Average Birth Weight (g)  \n",
       "5491                    3261.1  \n",
       "5492                    3286.0  \n",
       "5493                    3249.3  \n",
       "5494                    3262.0  \n",
       "5495                    3177.5  "
      ]
     },
     "execution_count": 7,
     "metadata": {},
     "output_type": "execute_result"
    }
   ],
   "source": [
    "us_births.tail()"
   ]
  },
  {
   "cell_type": "code",
   "execution_count": 8,
   "id": "08e91d38",
   "metadata": {},
   "outputs": [
    {
     "data": {
      "text/plain": [
       "(5496, 9)"
      ]
     },
     "execution_count": 8,
     "metadata": {},
     "output_type": "execute_result"
    }
   ],
   "source": [
    "us_births.shape"
   ]
  },
  {
   "cell_type": "code",
   "execution_count": 9,
   "id": "45bcbca8",
   "metadata": {},
   "outputs": [
    {
     "name": "stdout",
     "output_type": "stream",
     "text": [
      "<class 'pandas.core.frame.DataFrame'>\n",
      "RangeIndex: 5496 entries, 0 to 5495\n",
      "Data columns (total 9 columns):\n",
      " #   Column                         Non-Null Count  Dtype  \n",
      "---  ------                         --------------  -----  \n",
      " 0   State                          5496 non-null   object \n",
      " 1   State Abbreviation             5496 non-null   object \n",
      " 2   Year                           5496 non-null   int64  \n",
      " 3   Gender                         5496 non-null   object \n",
      " 4   Education Level of Mother      5496 non-null   object \n",
      " 5   Education Level Code           5496 non-null   int64  \n",
      " 6   Number of Births               5496 non-null   int64  \n",
      " 7   Average Age of Mother (years)  5496 non-null   float64\n",
      " 8   Average Birth Weight (g)       5496 non-null   float64\n",
      "dtypes: float64(2), int64(3), object(4)\n",
      "memory usage: 386.6+ KB\n"
     ]
    }
   ],
   "source": [
    "us_births.info()"
   ]
  },
  {
   "cell_type": "code",
   "execution_count": 10,
   "id": "cd8c24c3",
   "metadata": {},
   "outputs": [
    {
     "data": {
      "text/plain": [
       "Index(['State', 'State Abbreviation', 'Year', 'Gender',\n",
       "       'Education Level of Mother', 'Education Level Code', 'Number of Births',\n",
       "       'Average Age of Mother (years)', 'Average Birth Weight (g)'],\n",
       "      dtype='object')"
      ]
     },
     "execution_count": 10,
     "metadata": {},
     "output_type": "execute_result"
    }
   ],
   "source": [
    "us_births.columns"
   ]
  },
  {
   "cell_type": "code",
   "execution_count": 11,
   "id": "5142bdb5",
   "metadata": {
    "scrolled": true
   },
   "outputs": [
    {
     "data": {
      "text/html": [
       "<div>\n",
       "<style scoped>\n",
       "    .dataframe tbody tr th:only-of-type {\n",
       "        vertical-align: middle;\n",
       "    }\n",
       "\n",
       "    .dataframe tbody tr th {\n",
       "        vertical-align: top;\n",
       "    }\n",
       "\n",
       "    .dataframe thead th {\n",
       "        text-align: right;\n",
       "    }\n",
       "</style>\n",
       "<table border=\"1\" class=\"dataframe\">\n",
       "  <thead>\n",
       "    <tr style=\"text-align: right;\">\n",
       "      <th></th>\n",
       "      <th>Year</th>\n",
       "      <th>Education Level Code</th>\n",
       "      <th>Number of Births</th>\n",
       "      <th>Average Age of Mother (years)</th>\n",
       "      <th>Average Birth Weight (g)</th>\n",
       "    </tr>\n",
       "  </thead>\n",
       "  <tbody>\n",
       "    <tr>\n",
       "      <th>count</th>\n",
       "      <td>5496.000000</td>\n",
       "      <td>5496.000000</td>\n",
       "      <td>5496.000000</td>\n",
       "      <td>5496.000000</td>\n",
       "      <td>5496.000000</td>\n",
       "    </tr>\n",
       "    <tr>\n",
       "      <th>mean</th>\n",
       "      <td>2018.500728</td>\n",
       "      <td>3.026201</td>\n",
       "      <td>4115.443959</td>\n",
       "      <td>29.552274</td>\n",
       "      <td>3250.887627</td>\n",
       "    </tr>\n",
       "    <tr>\n",
       "      <th>std</th>\n",
       "      <td>1.707554</td>\n",
       "      <td>4.733406</td>\n",
       "      <td>6687.036797</td>\n",
       "      <td>2.779735</td>\n",
       "      <td>114.456090</td>\n",
       "    </tr>\n",
       "    <tr>\n",
       "      <th>min</th>\n",
       "      <td>2016.000000</td>\n",
       "      <td>-9.000000</td>\n",
       "      <td>10.000000</td>\n",
       "      <td>23.100000</td>\n",
       "      <td>2451.900000</td>\n",
       "    </tr>\n",
       "    <tr>\n",
       "      <th>25%</th>\n",
       "      <td>2017.000000</td>\n",
       "      <td>2.000000</td>\n",
       "      <td>559.000000</td>\n",
       "      <td>27.500000</td>\n",
       "      <td>3182.200000</td>\n",
       "    </tr>\n",
       "    <tr>\n",
       "      <th>50%</th>\n",
       "      <td>2019.000000</td>\n",
       "      <td>4.000000</td>\n",
       "      <td>1692.000000</td>\n",
       "      <td>29.600000</td>\n",
       "      <td>3256.000000</td>\n",
       "    </tr>\n",
       "    <tr>\n",
       "      <th>75%</th>\n",
       "      <td>2020.000000</td>\n",
       "      <td>6.000000</td>\n",
       "      <td>5140.000000</td>\n",
       "      <td>31.800000</td>\n",
       "      <td>3330.825000</td>\n",
       "    </tr>\n",
       "    <tr>\n",
       "      <th>max</th>\n",
       "      <td>2021.000000</td>\n",
       "      <td>8.000000</td>\n",
       "      <td>59967.000000</td>\n",
       "      <td>35.500000</td>\n",
       "      <td>3585.700000</td>\n",
       "    </tr>\n",
       "  </tbody>\n",
       "</table>\n",
       "</div>"
      ],
      "text/plain": [
       "              Year  Education Level Code  Number of Births  \\\n",
       "count  5496.000000           5496.000000       5496.000000   \n",
       "mean   2018.500728              3.026201       4115.443959   \n",
       "std       1.707554              4.733406       6687.036797   \n",
       "min    2016.000000             -9.000000         10.000000   \n",
       "25%    2017.000000              2.000000        559.000000   \n",
       "50%    2019.000000              4.000000       1692.000000   \n",
       "75%    2020.000000              6.000000       5140.000000   \n",
       "max    2021.000000              8.000000      59967.000000   \n",
       "\n",
       "       Average Age of Mother (years)  Average Birth Weight (g)  \n",
       "count                    5496.000000               5496.000000  \n",
       "mean                       29.552274               3250.887627  \n",
       "std                         2.779735                114.456090  \n",
       "min                        23.100000               2451.900000  \n",
       "25%                        27.500000               3182.200000  \n",
       "50%                        29.600000               3256.000000  \n",
       "75%                        31.800000               3330.825000  \n",
       "max                        35.500000               3585.700000  "
      ]
     },
     "execution_count": 11,
     "metadata": {},
     "output_type": "execute_result"
    }
   ],
   "source": [
    "# describing data \n",
    "us_births.describe()"
   ]
  },
  {
   "cell_type": "markdown",
   "id": "b79492a5",
   "metadata": {},
   "source": [
    "## 03. Data Wrangling"
   ]
  },
  {
   "cell_type": "code",
   "execution_count": 12,
   "id": "2e0b76e4",
   "metadata": {},
   "outputs": [],
   "source": [
    "# Renaming us_customer columns (shortening/ clarifying)\n",
    "us_births.rename(columns = {'State Abbreviation' : 'State_abbrev'}, inplace = True)"
   ]
  },
  {
   "cell_type": "code",
   "execution_count": 13,
   "id": "4544248c",
   "metadata": {},
   "outputs": [],
   "source": [
    "us_births.rename(columns = {'Gender' : 'Gender_baby'}, inplace = True)"
   ]
  },
  {
   "cell_type": "code",
   "execution_count": 14,
   "id": "b5623820",
   "metadata": {},
   "outputs": [],
   "source": [
    "us_births.rename(columns = {'Education Level of Mother' : 'Education_level'}, inplace = True)"
   ]
  },
  {
   "cell_type": "code",
   "execution_count": 15,
   "id": "3fd79f78",
   "metadata": {},
   "outputs": [],
   "source": [
    "us_births.rename(columns = {'Education Level Code' : 'Education_code'}, inplace = True)"
   ]
  },
  {
   "cell_type": "code",
   "execution_count": 16,
   "id": "90d709fe",
   "metadata": {},
   "outputs": [],
   "source": [
    "us_births.rename(columns = {'Number of Births' : 'Births'}, inplace = True)"
   ]
  },
  {
   "cell_type": "code",
   "execution_count": 17,
   "id": "1f6909d1",
   "metadata": {},
   "outputs": [],
   "source": [
    "us_births.rename(columns = {'Average Age of Mother (years)' : 'Avg_age_mother'}, inplace = True)"
   ]
  },
  {
   "cell_type": "code",
   "execution_count": 18,
   "id": "c6e03bc7",
   "metadata": {},
   "outputs": [],
   "source": [
    "us_births.rename(columns = {'Average Birth Weight (g)' : 'Avg_birth_weight(g)'}, inplace = True)"
   ]
  },
  {
   "cell_type": "code",
   "execution_count": 19,
   "id": "5f21b68c",
   "metadata": {},
   "outputs": [
    {
     "data": {
      "text/plain": [
       "Index(['State', 'State_abbrev', 'Year', 'Gender_baby', 'Education_level',\n",
       "       'Education_code', 'Births', 'Avg_age_mother', 'Avg_birth_weight(g)'],\n",
       "      dtype='object')"
      ]
     },
     "execution_count": 19,
     "metadata": {},
     "output_type": "execute_result"
    }
   ],
   "source": [
    "#Check updated us_births columns\n",
    "us_births.columns"
   ]
  },
  {
   "cell_type": "markdown",
   "id": "1694906c",
   "metadata": {},
   "source": [
    "## 04. Data Quality/Consistency"
   ]
  },
  {
   "cell_type": "markdown",
   "id": "879d3d2d",
   "metadata": {},
   "source": [
    "### Checking for missing values"
   ]
  },
  {
   "cell_type": "code",
   "execution_count": 20,
   "id": "8549edc7",
   "metadata": {},
   "outputs": [
    {
     "data": {
      "text/plain": [
       "State                  0\n",
       "State_abbrev           0\n",
       "Year                   0\n",
       "Gender_baby            0\n",
       "Education_level        0\n",
       "Education_code         0\n",
       "Births                 0\n",
       "Avg_age_mother         0\n",
       "Avg_birth_weight(g)    0\n",
       "dtype: int64"
      ]
     },
     "execution_count": 20,
     "metadata": {},
     "output_type": "execute_result"
    }
   ],
   "source": [
    "us_births.isnull().sum()"
   ]
  },
  {
   "cell_type": "markdown",
   "id": "e64463f5",
   "metadata": {},
   "source": [
    "#### There are no missing values"
   ]
  },
  {
   "cell_type": "markdown",
   "id": "3833d9f2",
   "metadata": {},
   "source": [
    "### Checking for duplicate values"
   ]
  },
  {
   "cell_type": "code",
   "execution_count": 21,
   "id": "17155f1f",
   "metadata": {},
   "outputs": [],
   "source": [
    "us_births_dups = us_births[us_births.duplicated()]"
   ]
  },
  {
   "cell_type": "code",
   "execution_count": 22,
   "id": "3ea8b3d1",
   "metadata": {},
   "outputs": [
    {
     "data": {
      "text/html": [
       "<div>\n",
       "<style scoped>\n",
       "    .dataframe tbody tr th:only-of-type {\n",
       "        vertical-align: middle;\n",
       "    }\n",
       "\n",
       "    .dataframe tbody tr th {\n",
       "        vertical-align: top;\n",
       "    }\n",
       "\n",
       "    .dataframe thead th {\n",
       "        text-align: right;\n",
       "    }\n",
       "</style>\n",
       "<table border=\"1\" class=\"dataframe\">\n",
       "  <thead>\n",
       "    <tr style=\"text-align: right;\">\n",
       "      <th></th>\n",
       "      <th>State</th>\n",
       "      <th>State_abbrev</th>\n",
       "      <th>Year</th>\n",
       "      <th>Gender_baby</th>\n",
       "      <th>Education_level</th>\n",
       "      <th>Education_code</th>\n",
       "      <th>Births</th>\n",
       "      <th>Avg_age_mother</th>\n",
       "      <th>Avg_birth_weight(g)</th>\n",
       "    </tr>\n",
       "  </thead>\n",
       "  <tbody>\n",
       "  </tbody>\n",
       "</table>\n",
       "</div>"
      ],
      "text/plain": [
       "Empty DataFrame\n",
       "Columns: [State, State_abbrev, Year, Gender_baby, Education_level, Education_code, Births, Avg_age_mother, Avg_birth_weight(g)]\n",
       "Index: []"
      ]
     },
     "execution_count": 22,
     "metadata": {},
     "output_type": "execute_result"
    }
   ],
   "source": [
    "us_births_dups"
   ]
  },
  {
   "cell_type": "markdown",
   "id": "a66a5504",
   "metadata": {},
   "source": [
    "#### No duplicates were found"
   ]
  },
  {
   "cell_type": "markdown",
   "id": "14c5f342",
   "metadata": {},
   "source": [
    "## 05. Exporting Data Frame"
   ]
  },
  {
   "cell_type": "code",
   "execution_count": 23,
   "id": "5d5ca19e",
   "metadata": {},
   "outputs": [],
   "source": [
    "us_births.to_csv(os.path.join(path, '02 Data','Prepared data', 'us_births_cleaned.csv'))"
   ]
  },
  {
   "cell_type": "code",
   "execution_count": null,
   "id": "fc6e13bd",
   "metadata": {},
   "outputs": [],
   "source": []
  }
 ],
 "metadata": {
  "kernelspec": {
   "display_name": "Python 3 (ipykernel)",
   "language": "python",
   "name": "python3"
  },
  "language_info": {
   "codemirror_mode": {
    "name": "ipython",
    "version": 3
   },
   "file_extension": ".py",
   "mimetype": "text/x-python",
   "name": "python",
   "nbconvert_exporter": "python",
   "pygments_lexer": "ipython3",
   "version": "3.10.9"
  }
 },
 "nbformat": 4,
 "nbformat_minor": 5
}
