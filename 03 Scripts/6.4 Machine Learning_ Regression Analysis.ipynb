{
 "cells": [
  {
   "cell_type": "markdown",
   "id": "e009d198",
   "metadata": {},
   "source": [
    "# 6.4 Supervised Macine Learning: Regression"
   ]
  },
  {
   "cell_type": "markdown",
   "id": "869fdca3",
   "metadata": {},
   "source": [
    "### This script contains the following:\n",
    "#### 1. Importing libraries and data\n",
    "#### 2. Data cleaning\n",
    "#### 3. Data prep for regression analysis\n",
    "#### 4. Regression analysis"
   ]
  },
  {
   "cell_type": "markdown",
   "id": "3ddebbde",
   "metadata": {},
   "source": [
    "## 1. Importing libraries and data"
   ]
  },
  {
   "cell_type": "code",
   "execution_count": 1,
   "id": "378a31ee",
   "metadata": {},
   "outputs": [],
   "source": [
    "import pandas as pd\n",
    "import numpy as np\n",
    "import seaborn as sns\n",
    "import matplotlib\n",
    "import matplotlib.pyplot as plt\n",
    "import os\n",
    "import sklearn\n",
    "from sklearn.model_selection import train_test_split \n",
    "from sklearn.linear_model import LinearRegression\n",
    "from sklearn.metrics import mean_squared_error, r2_score"
   ]
  },
  {
   "cell_type": "code",
   "execution_count": 2,
   "id": "0a328ac9",
   "metadata": {},
   "outputs": [],
   "source": [
    "# This option ensures that the graphs you create are displayed within the notebook without the need to \"call\" them specifically.\n",
    "\n",
    "%matplotlib inline"
   ]
  },
  {
   "cell_type": "code",
   "execution_count": 3,
   "id": "471835a8",
   "metadata": {},
   "outputs": [],
   "source": [
    "path = r'/Users/sanyamohsini/Desktop/CareerFoundry_Data Analytics/Achievement 6'"
   ]
  },
  {
   "cell_type": "code",
   "execution_count": 4,
   "id": "9ddd0c87",
   "metadata": {},
   "outputs": [
    {
     "data": {
      "text/plain": [
       "'/Users/sanyamohsini/Desktop/CareerFoundry_Data Analytics/Achievement 6'"
      ]
     },
     "execution_count": 4,
     "metadata": {},
     "output_type": "execute_result"
    }
   ],
   "source": [
    "path"
   ]
  },
  {
   "cell_type": "code",
   "execution_count": 5,
   "id": "81a8511e",
   "metadata": {},
   "outputs": [],
   "source": [
    "# Import us_births.csv\n",
    "\n",
    "us_births = pd.read_csv(os.path.join(path, '02 Data', 'Prepared data', 'us_births_cleaned_2.csv'), index_col = False)"
   ]
  },
  {
   "cell_type": "markdown",
   "id": "b47b7060",
   "metadata": {},
   "source": [
    "## 2. Data cleaning"
   ]
  },
  {
   "cell_type": "code",
   "execution_count": 6,
   "id": "5fb93f83",
   "metadata": {},
   "outputs": [
    {
     "data": {
      "text/plain": [
       "Index(['Unnamed: 0', 'State', 'State_abbrev', 'Year', 'Gender_baby',\n",
       "       'Education_level', 'Education_code', 'Births', 'Avg_age_mother',\n",
       "       'Avg_birth_weight(g)'],\n",
       "      dtype='object')"
      ]
     },
     "execution_count": 6,
     "metadata": {},
     "output_type": "execute_result"
    }
   ],
   "source": [
    "us_births.columns"
   ]
  },
  {
   "cell_type": "code",
   "execution_count": 7,
   "id": "0df7b4a8",
   "metadata": {},
   "outputs": [
    {
     "data": {
      "text/html": [
       "<div>\n",
       "<style scoped>\n",
       "    .dataframe tbody tr th:only-of-type {\n",
       "        vertical-align: middle;\n",
       "    }\n",
       "\n",
       "    .dataframe tbody tr th {\n",
       "        vertical-align: top;\n",
       "    }\n",
       "\n",
       "    .dataframe thead th {\n",
       "        text-align: right;\n",
       "    }\n",
       "</style>\n",
       "<table border=\"1\" class=\"dataframe\">\n",
       "  <thead>\n",
       "    <tr style=\"text-align: right;\">\n",
       "      <th></th>\n",
       "      <th>Unnamed: 0</th>\n",
       "      <th>State</th>\n",
       "      <th>State_abbrev</th>\n",
       "      <th>Year</th>\n",
       "      <th>Gender_baby</th>\n",
       "      <th>Education_level</th>\n",
       "      <th>Education_code</th>\n",
       "      <th>Births</th>\n",
       "      <th>Avg_age_mother</th>\n",
       "      <th>Avg_birth_weight(g)</th>\n",
       "    </tr>\n",
       "  </thead>\n",
       "  <tbody>\n",
       "    <tr>\n",
       "      <th>0</th>\n",
       "      <td>0</td>\n",
       "      <td>Alabama</td>\n",
       "      <td>AL</td>\n",
       "      <td>2016</td>\n",
       "      <td>F</td>\n",
       "      <td>8th grade or less</td>\n",
       "      <td>1</td>\n",
       "      <td>1052</td>\n",
       "      <td>27.8</td>\n",
       "      <td>3116.9</td>\n",
       "    </tr>\n",
       "    <tr>\n",
       "      <th>1</th>\n",
       "      <td>1</td>\n",
       "      <td>Alabama</td>\n",
       "      <td>AL</td>\n",
       "      <td>2016</td>\n",
       "      <td>F</td>\n",
       "      <td>9th through 12th grade with no diploma</td>\n",
       "      <td>2</td>\n",
       "      <td>3436</td>\n",
       "      <td>24.1</td>\n",
       "      <td>3040.0</td>\n",
       "    </tr>\n",
       "    <tr>\n",
       "      <th>2</th>\n",
       "      <td>2</td>\n",
       "      <td>Alabama</td>\n",
       "      <td>AL</td>\n",
       "      <td>2016</td>\n",
       "      <td>F</td>\n",
       "      <td>High school graduate or GED completed</td>\n",
       "      <td>3</td>\n",
       "      <td>8777</td>\n",
       "      <td>25.4</td>\n",
       "      <td>3080.0</td>\n",
       "    </tr>\n",
       "    <tr>\n",
       "      <th>3</th>\n",
       "      <td>3</td>\n",
       "      <td>Alabama</td>\n",
       "      <td>AL</td>\n",
       "      <td>2016</td>\n",
       "      <td>F</td>\n",
       "      <td>Some college credit, but not a degree</td>\n",
       "      <td>4</td>\n",
       "      <td>6453</td>\n",
       "      <td>26.7</td>\n",
       "      <td>3121.9</td>\n",
       "    </tr>\n",
       "    <tr>\n",
       "      <th>4</th>\n",
       "      <td>4</td>\n",
       "      <td>Alabama</td>\n",
       "      <td>AL</td>\n",
       "      <td>2016</td>\n",
       "      <td>F</td>\n",
       "      <td>Associate degree (AA, AS)</td>\n",
       "      <td>5</td>\n",
       "      <td>2227</td>\n",
       "      <td>28.9</td>\n",
       "      <td>3174.3</td>\n",
       "    </tr>\n",
       "    <tr>\n",
       "      <th>5</th>\n",
       "      <td>5</td>\n",
       "      <td>Alabama</td>\n",
       "      <td>AL</td>\n",
       "      <td>2016</td>\n",
       "      <td>F</td>\n",
       "      <td>Bachelor's degree (BA, AB, BS)</td>\n",
       "      <td>6</td>\n",
       "      <td>4453</td>\n",
       "      <td>30.3</td>\n",
       "      <td>3239.0</td>\n",
       "    </tr>\n",
       "    <tr>\n",
       "      <th>6</th>\n",
       "      <td>6</td>\n",
       "      <td>Alabama</td>\n",
       "      <td>AL</td>\n",
       "      <td>2016</td>\n",
       "      <td>F</td>\n",
       "      <td>Master's degree (MA, MS, MEng, MEd, MSW, MBA)</td>\n",
       "      <td>7</td>\n",
       "      <td>1910</td>\n",
       "      <td>32.0</td>\n",
       "      <td>3263.5</td>\n",
       "    </tr>\n",
       "    <tr>\n",
       "      <th>7</th>\n",
       "      <td>7</td>\n",
       "      <td>Alabama</td>\n",
       "      <td>AL</td>\n",
       "      <td>2016</td>\n",
       "      <td>F</td>\n",
       "      <td>Doctorate (PhD, EdD) or Professional Degree (M...</td>\n",
       "      <td>8</td>\n",
       "      <td>487</td>\n",
       "      <td>33.1</td>\n",
       "      <td>3196.7</td>\n",
       "    </tr>\n",
       "    <tr>\n",
       "      <th>8</th>\n",
       "      <td>8</td>\n",
       "      <td>Alabama</td>\n",
       "      <td>AL</td>\n",
       "      <td>2016</td>\n",
       "      <td>F</td>\n",
       "      <td>Unknown or Not Stated</td>\n",
       "      <td>9</td>\n",
       "      <td>65</td>\n",
       "      <td>27.7</td>\n",
       "      <td>3083.9</td>\n",
       "    </tr>\n",
       "    <tr>\n",
       "      <th>9</th>\n",
       "      <td>9</td>\n",
       "      <td>Alabama</td>\n",
       "      <td>AL</td>\n",
       "      <td>2016</td>\n",
       "      <td>M</td>\n",
       "      <td>8th grade or less</td>\n",
       "      <td>1</td>\n",
       "      <td>1188</td>\n",
       "      <td>27.6</td>\n",
       "      <td>3232.9</td>\n",
       "    </tr>\n",
       "    <tr>\n",
       "      <th>10</th>\n",
       "      <td>10</td>\n",
       "      <td>Alabama</td>\n",
       "      <td>AL</td>\n",
       "      <td>2016</td>\n",
       "      <td>M</td>\n",
       "      <td>9th through 12th grade with no diploma</td>\n",
       "      <td>2</td>\n",
       "      <td>3657</td>\n",
       "      <td>23.9</td>\n",
       "      <td>3121.2</td>\n",
       "    </tr>\n",
       "    <tr>\n",
       "      <th>11</th>\n",
       "      <td>11</td>\n",
       "      <td>Alabama</td>\n",
       "      <td>AL</td>\n",
       "      <td>2016</td>\n",
       "      <td>M</td>\n",
       "      <td>High school graduate or GED completed</td>\n",
       "      <td>3</td>\n",
       "      <td>9284</td>\n",
       "      <td>25.2</td>\n",
       "      <td>3197.9</td>\n",
       "    </tr>\n",
       "    <tr>\n",
       "      <th>12</th>\n",
       "      <td>12</td>\n",
       "      <td>Alabama</td>\n",
       "      <td>AL</td>\n",
       "      <td>2016</td>\n",
       "      <td>M</td>\n",
       "      <td>Some college credit, but not a degree</td>\n",
       "      <td>4</td>\n",
       "      <td>6516</td>\n",
       "      <td>26.7</td>\n",
       "      <td>3252.1</td>\n",
       "    </tr>\n",
       "    <tr>\n",
       "      <th>13</th>\n",
       "      <td>13</td>\n",
       "      <td>Alabama</td>\n",
       "      <td>AL</td>\n",
       "      <td>2016</td>\n",
       "      <td>M</td>\n",
       "      <td>Associate degree (AA, AS)</td>\n",
       "      <td>5</td>\n",
       "      <td>2460</td>\n",
       "      <td>29.0</td>\n",
       "      <td>3301.4</td>\n",
       "    </tr>\n",
       "    <tr>\n",
       "      <th>14</th>\n",
       "      <td>14</td>\n",
       "      <td>Alabama</td>\n",
       "      <td>AL</td>\n",
       "      <td>2016</td>\n",
       "      <td>M</td>\n",
       "      <td>Bachelor's degree (BA, AB, BS)</td>\n",
       "      <td>6</td>\n",
       "      <td>4645</td>\n",
       "      <td>30.3</td>\n",
       "      <td>3376.1</td>\n",
       "    </tr>\n",
       "    <tr>\n",
       "      <th>15</th>\n",
       "      <td>15</td>\n",
       "      <td>Alabama</td>\n",
       "      <td>AL</td>\n",
       "      <td>2016</td>\n",
       "      <td>M</td>\n",
       "      <td>Master's degree (MA, MS, MEng, MEd, MSW, MBA)</td>\n",
       "      <td>7</td>\n",
       "      <td>1974</td>\n",
       "      <td>32.2</td>\n",
       "      <td>3358.2</td>\n",
       "    </tr>\n",
       "    <tr>\n",
       "      <th>16</th>\n",
       "      <td>16</td>\n",
       "      <td>Alabama</td>\n",
       "      <td>AL</td>\n",
       "      <td>2016</td>\n",
       "      <td>M</td>\n",
       "      <td>Doctorate (PhD, EdD) or Professional Degree (M...</td>\n",
       "      <td>8</td>\n",
       "      <td>511</td>\n",
       "      <td>32.8</td>\n",
       "      <td>3368.4</td>\n",
       "    </tr>\n",
       "    <tr>\n",
       "      <th>17</th>\n",
       "      <td>17</td>\n",
       "      <td>Alabama</td>\n",
       "      <td>AL</td>\n",
       "      <td>2016</td>\n",
       "      <td>M</td>\n",
       "      <td>Unknown or Not Stated</td>\n",
       "      <td>9</td>\n",
       "      <td>56</td>\n",
       "      <td>27.2</td>\n",
       "      <td>3107.7</td>\n",
       "    </tr>\n",
       "    <tr>\n",
       "      <th>18</th>\n",
       "      <td>18</td>\n",
       "      <td>Alabama</td>\n",
       "      <td>AL</td>\n",
       "      <td>2017</td>\n",
       "      <td>F</td>\n",
       "      <td>8th grade or less</td>\n",
       "      <td>1</td>\n",
       "      <td>1012</td>\n",
       "      <td>27.6</td>\n",
       "      <td>3139.6</td>\n",
       "    </tr>\n",
       "    <tr>\n",
       "      <th>19</th>\n",
       "      <td>19</td>\n",
       "      <td>Alabama</td>\n",
       "      <td>AL</td>\n",
       "      <td>2017</td>\n",
       "      <td>F</td>\n",
       "      <td>9th through 12th grade with no diploma</td>\n",
       "      <td>2</td>\n",
       "      <td>3283</td>\n",
       "      <td>24.4</td>\n",
       "      <td>3040.6</td>\n",
       "    </tr>\n",
       "  </tbody>\n",
       "</table>\n",
       "</div>"
      ],
      "text/plain": [
       "    Unnamed: 0    State State_abbrev  Year Gender_baby  \\\n",
       "0            0  Alabama           AL  2016           F   \n",
       "1            1  Alabama           AL  2016           F   \n",
       "2            2  Alabama           AL  2016           F   \n",
       "3            3  Alabama           AL  2016           F   \n",
       "4            4  Alabama           AL  2016           F   \n",
       "5            5  Alabama           AL  2016           F   \n",
       "6            6  Alabama           AL  2016           F   \n",
       "7            7  Alabama           AL  2016           F   \n",
       "8            8  Alabama           AL  2016           F   \n",
       "9            9  Alabama           AL  2016           M   \n",
       "10          10  Alabama           AL  2016           M   \n",
       "11          11  Alabama           AL  2016           M   \n",
       "12          12  Alabama           AL  2016           M   \n",
       "13          13  Alabama           AL  2016           M   \n",
       "14          14  Alabama           AL  2016           M   \n",
       "15          15  Alabama           AL  2016           M   \n",
       "16          16  Alabama           AL  2016           M   \n",
       "17          17  Alabama           AL  2016           M   \n",
       "18          18  Alabama           AL  2017           F   \n",
       "19          19  Alabama           AL  2017           F   \n",
       "\n",
       "                                      Education_level  Education_code  Births  \\\n",
       "0                                   8th grade or less               1    1052   \n",
       "1              9th through 12th grade with no diploma               2    3436   \n",
       "2               High school graduate or GED completed               3    8777   \n",
       "3               Some college credit, but not a degree               4    6453   \n",
       "4                           Associate degree (AA, AS)               5    2227   \n",
       "5                      Bachelor's degree (BA, AB, BS)               6    4453   \n",
       "6       Master's degree (MA, MS, MEng, MEd, MSW, MBA)               7    1910   \n",
       "7   Doctorate (PhD, EdD) or Professional Degree (M...               8     487   \n",
       "8                               Unknown or Not Stated               9      65   \n",
       "9                                   8th grade or less               1    1188   \n",
       "10             9th through 12th grade with no diploma               2    3657   \n",
       "11              High school graduate or GED completed               3    9284   \n",
       "12              Some college credit, but not a degree               4    6516   \n",
       "13                          Associate degree (AA, AS)               5    2460   \n",
       "14                     Bachelor's degree (BA, AB, BS)               6    4645   \n",
       "15      Master's degree (MA, MS, MEng, MEd, MSW, MBA)               7    1974   \n",
       "16  Doctorate (PhD, EdD) or Professional Degree (M...               8     511   \n",
       "17                              Unknown or Not Stated               9      56   \n",
       "18                                  8th grade or less               1    1012   \n",
       "19             9th through 12th grade with no diploma               2    3283   \n",
       "\n",
       "    Avg_age_mother  Avg_birth_weight(g)  \n",
       "0             27.8               3116.9  \n",
       "1             24.1               3040.0  \n",
       "2             25.4               3080.0  \n",
       "3             26.7               3121.9  \n",
       "4             28.9               3174.3  \n",
       "5             30.3               3239.0  \n",
       "6             32.0               3263.5  \n",
       "7             33.1               3196.7  \n",
       "8             27.7               3083.9  \n",
       "9             27.6               3232.9  \n",
       "10            23.9               3121.2  \n",
       "11            25.2               3197.9  \n",
       "12            26.7               3252.1  \n",
       "13            29.0               3301.4  \n",
       "14            30.3               3376.1  \n",
       "15            32.2               3358.2  \n",
       "16            32.8               3368.4  \n",
       "17            27.2               3107.7  \n",
       "18            27.6               3139.6  \n",
       "19            24.4               3040.6  "
      ]
     },
     "execution_count": 7,
     "metadata": {},
     "output_type": "execute_result"
    }
   ],
   "source": [
    "us_births.head(20)"
   ]
  },
  {
   "cell_type": "code",
   "execution_count": 8,
   "id": "b171a123",
   "metadata": {},
   "outputs": [],
   "source": [
    "# Drop unnamed column\n",
    "\n",
    "us_births = us_births.drop(columns = ['Unnamed: 0'])"
   ]
  },
  {
   "cell_type": "code",
   "execution_count": 9,
   "id": "72a9bb25",
   "metadata": {},
   "outputs": [
    {
     "data": {
      "text/html": [
       "<div>\n",
       "<style scoped>\n",
       "    .dataframe tbody tr th:only-of-type {\n",
       "        vertical-align: middle;\n",
       "    }\n",
       "\n",
       "    .dataframe tbody tr th {\n",
       "        vertical-align: top;\n",
       "    }\n",
       "\n",
       "    .dataframe thead th {\n",
       "        text-align: right;\n",
       "    }\n",
       "</style>\n",
       "<table border=\"1\" class=\"dataframe\">\n",
       "  <thead>\n",
       "    <tr style=\"text-align: right;\">\n",
       "      <th></th>\n",
       "      <th>State</th>\n",
       "      <th>State_abbrev</th>\n",
       "      <th>Year</th>\n",
       "      <th>Gender_baby</th>\n",
       "      <th>Education_level</th>\n",
       "      <th>Education_code</th>\n",
       "      <th>Births</th>\n",
       "      <th>Avg_age_mother</th>\n",
       "      <th>Avg_birth_weight(g)</th>\n",
       "    </tr>\n",
       "  </thead>\n",
       "  <tbody>\n",
       "    <tr>\n",
       "      <th>0</th>\n",
       "      <td>Alabama</td>\n",
       "      <td>AL</td>\n",
       "      <td>2016</td>\n",
       "      <td>F</td>\n",
       "      <td>8th grade or less</td>\n",
       "      <td>1</td>\n",
       "      <td>1052</td>\n",
       "      <td>27.8</td>\n",
       "      <td>3116.9</td>\n",
       "    </tr>\n",
       "    <tr>\n",
       "      <th>1</th>\n",
       "      <td>Alabama</td>\n",
       "      <td>AL</td>\n",
       "      <td>2016</td>\n",
       "      <td>F</td>\n",
       "      <td>9th through 12th grade with no diploma</td>\n",
       "      <td>2</td>\n",
       "      <td>3436</td>\n",
       "      <td>24.1</td>\n",
       "      <td>3040.0</td>\n",
       "    </tr>\n",
       "    <tr>\n",
       "      <th>2</th>\n",
       "      <td>Alabama</td>\n",
       "      <td>AL</td>\n",
       "      <td>2016</td>\n",
       "      <td>F</td>\n",
       "      <td>High school graduate or GED completed</td>\n",
       "      <td>3</td>\n",
       "      <td>8777</td>\n",
       "      <td>25.4</td>\n",
       "      <td>3080.0</td>\n",
       "    </tr>\n",
       "    <tr>\n",
       "      <th>3</th>\n",
       "      <td>Alabama</td>\n",
       "      <td>AL</td>\n",
       "      <td>2016</td>\n",
       "      <td>F</td>\n",
       "      <td>Some college credit, but not a degree</td>\n",
       "      <td>4</td>\n",
       "      <td>6453</td>\n",
       "      <td>26.7</td>\n",
       "      <td>3121.9</td>\n",
       "    </tr>\n",
       "    <tr>\n",
       "      <th>4</th>\n",
       "      <td>Alabama</td>\n",
       "      <td>AL</td>\n",
       "      <td>2016</td>\n",
       "      <td>F</td>\n",
       "      <td>Associate degree (AA, AS)</td>\n",
       "      <td>5</td>\n",
       "      <td>2227</td>\n",
       "      <td>28.9</td>\n",
       "      <td>3174.3</td>\n",
       "    </tr>\n",
       "  </tbody>\n",
       "</table>\n",
       "</div>"
      ],
      "text/plain": [
       "     State State_abbrev  Year Gender_baby  \\\n",
       "0  Alabama           AL  2016           F   \n",
       "1  Alabama           AL  2016           F   \n",
       "2  Alabama           AL  2016           F   \n",
       "3  Alabama           AL  2016           F   \n",
       "4  Alabama           AL  2016           F   \n",
       "\n",
       "                          Education_level  Education_code  Births  \\\n",
       "0                       8th grade or less               1    1052   \n",
       "1  9th through 12th grade with no diploma               2    3436   \n",
       "2   High school graduate or GED completed               3    8777   \n",
       "3   Some college credit, but not a degree               4    6453   \n",
       "4               Associate degree (AA, AS)               5    2227   \n",
       "\n",
       "   Avg_age_mother  Avg_birth_weight(g)  \n",
       "0            27.8               3116.9  \n",
       "1            24.1               3040.0  \n",
       "2            25.4               3080.0  \n",
       "3            26.7               3121.9  \n",
       "4            28.9               3174.3  "
      ]
     },
     "execution_count": 9,
     "metadata": {},
     "output_type": "execute_result"
    }
   ],
   "source": [
    "us_births.head()"
   ]
  },
  {
   "cell_type": "code",
   "execution_count": 10,
   "id": "93144939",
   "metadata": {},
   "outputs": [
    {
     "name": "stdout",
     "output_type": "stream",
     "text": [
      "        State State_abbrev  Year Gender_baby  \\\n",
      "0     Alabama           AL  2016           F   \n",
      "1     Alabama           AL  2016           F   \n",
      "2     Alabama           AL  2016           F   \n",
      "3     Alabama           AL  2016           F   \n",
      "4     Alabama           AL  2016           F   \n",
      "...       ...          ...   ...         ...   \n",
      "5490  Wyoming           WY  2021           M   \n",
      "5491  Wyoming           WY  2021           M   \n",
      "5492  Wyoming           WY  2021           M   \n",
      "5493  Wyoming           WY  2021           M   \n",
      "5494  Wyoming           WY  2021           M   \n",
      "\n",
      "                                        Education_level  Education_code  \\\n",
      "0                                     8th grade or less               1   \n",
      "1                9th through 12th grade with no diploma               2   \n",
      "2                 High school graduate or GED completed               3   \n",
      "3                 Some college credit, but not a degree               4   \n",
      "4                             Associate degree (AA, AS)               5   \n",
      "...                                                 ...             ...   \n",
      "5490              Some college credit, but not a degree               4   \n",
      "5491                          Associate degree (AA, AS)               5   \n",
      "5492                     Bachelor's degree (BA, AB, BS)               6   \n",
      "5493      Master's degree (MA, MS, MEng, MEd, MSW, MBA)               7   \n",
      "5494  Doctorate (PhD, EdD) or Professional Degree (M...               8   \n",
      "\n",
      "      Births  Avg_age_mother  Avg_birth_weight(g)  \n",
      "0       1052            27.8               3116.9  \n",
      "1       3436            24.1               3040.0  \n",
      "2       8777            25.4               3080.0  \n",
      "3       6453            26.7               3121.9  \n",
      "4       2227            28.9               3174.3  \n",
      "...      ...             ...                  ...  \n",
      "5490     766            27.4               3234.3  \n",
      "5491     401            29.2               3261.1  \n",
      "5492     657            30.7               3286.0  \n",
      "5493     261            33.0               3249.3  \n",
      "5494      72            33.3               3262.0  \n",
      "\n",
      "[4896 rows x 9 columns]\n"
     ]
    }
   ],
   "source": [
    "# While there is no missing data, education code = 9 is unknown or not stated. For this analysis I will drop education_code = 9.\n",
    "us_births.drop(us_births[us_births['Education_code'] == 9].index, inplace = True)\n",
    "print(us_births)"
   ]
  },
  {
   "cell_type": "code",
   "execution_count": 11,
   "id": "1e423e84",
   "metadata": {},
   "outputs": [
    {
     "data": {
      "text/plain": [
       "(4896, 9)"
      ]
     },
     "execution_count": 11,
     "metadata": {},
     "output_type": "execute_result"
    }
   ],
   "source": [
    "us_births.shape"
   ]
  },
  {
   "cell_type": "code",
   "execution_count": 12,
   "id": "d360fac7",
   "metadata": {},
   "outputs": [
    {
     "name": "stdout",
     "output_type": "stream",
     "text": [
      "<class 'pandas.core.frame.DataFrame'>\n",
      "Int64Index: 4896 entries, 0 to 5494\n",
      "Data columns (total 9 columns):\n",
      " #   Column               Non-Null Count  Dtype  \n",
      "---  ------               --------------  -----  \n",
      " 0   State                4896 non-null   object \n",
      " 1   State_abbrev         4896 non-null   object \n",
      " 2   Year                 4896 non-null   int64  \n",
      " 3   Gender_baby          4896 non-null   object \n",
      " 4   Education_level      4896 non-null   object \n",
      " 5   Education_code       4896 non-null   int64  \n",
      " 6   Births               4896 non-null   int64  \n",
      " 7   Avg_age_mother       4896 non-null   float64\n",
      " 8   Avg_birth_weight(g)  4896 non-null   float64\n",
      "dtypes: float64(2), int64(3), object(4)\n",
      "memory usage: 382.5+ KB\n"
     ]
    }
   ],
   "source": [
    "us_births.info()"
   ]
  },
  {
   "cell_type": "code",
   "execution_count": 13,
   "id": "075f8dab",
   "metadata": {},
   "outputs": [
    {
     "data": {
      "text/plain": [
       "State                  0\n",
       "State_abbrev           0\n",
       "Year                   0\n",
       "Gender_baby            0\n",
       "Education_level        0\n",
       "Education_code         0\n",
       "Births                 0\n",
       "Avg_age_mother         0\n",
       "Avg_birth_weight(g)    0\n",
       "dtype: int64"
      ]
     },
     "execution_count": 13,
     "metadata": {},
     "output_type": "execute_result"
    }
   ],
   "source": [
    "# Check for missing value\n",
    "us_births.isnull().sum()"
   ]
  },
  {
   "cell_type": "markdown",
   "id": "3732dbc1",
   "metadata": {},
   "source": [
    "#### no missing values"
   ]
  },
  {
   "cell_type": "code",
   "execution_count": 14,
   "id": "b5cdda88",
   "metadata": {},
   "outputs": [],
   "source": [
    "# Checking for duplicates\n",
    "\n",
    "dups = us_births.duplicated()"
   ]
  },
  {
   "cell_type": "code",
   "execution_count": 15,
   "id": "9e32cf37",
   "metadata": {},
   "outputs": [
    {
     "data": {
      "text/plain": [
       "(4896,)"
      ]
     },
     "execution_count": 15,
     "metadata": {},
     "output_type": "execute_result"
    }
   ],
   "source": [
    "dups.shape"
   ]
  },
  {
   "cell_type": "markdown",
   "id": "c834a1b3",
   "metadata": {},
   "source": [
    "#### no duplicates"
   ]
  },
  {
   "cell_type": "code",
   "execution_count": 16,
   "id": "c5356f45",
   "metadata": {},
   "outputs": [
    {
     "name": "stderr",
     "output_type": "stream",
     "text": [
      "/var/folders/x7/xxbpt4416fz0ffkv1ft07lnr0000gn/T/ipykernel_84453/2225764897.py:3: UserWarning: \n",
      "\n",
      "`distplot` is a deprecated function and will be removed in seaborn v0.14.0.\n",
      "\n",
      "Please adapt your code to use either `displot` (a figure-level function with\n",
      "similar flexibility) or `histplot` (an axes-level function for histograms).\n",
      "\n",
      "For a guide to updating your code to use the new functions, please see\n",
      "https://gist.github.com/mwaskom/de44147ed2974457ad6372750bbe5751\n",
      "\n",
      "  sns.distplot(us_births['Avg_age_mother'], bins=25) # Shows extreme values\n"
     ]
    },
    {
     "data": {
      "text/plain": [
       "<Axes: xlabel='Avg_age_mother', ylabel='Density'>"
      ]
     },
     "execution_count": 16,
     "metadata": {},
     "output_type": "execute_result"
    },
    {
     "data": {
      "image/png": "[encoded data removed]",
      "text/plain": [
       "<Figure size 640x480 with 1 Axes>"
      ]
     },
     "metadata": {},
     "output_type": "display_data"
    }
   ],
   "source": [
    "# Extreme value checks\n",
    "\n",
    "sns.distplot(us_births['Avg_age_mother'], bins=25) # Shows extreme values"
   ]
  },
  {
   "cell_type": "code",
   "execution_count": 17,
   "id": "5777375c",
   "metadata": {},
   "outputs": [
    {
     "data": {
      "text/plain": [
       "29.575878267973856"
      ]
     },
     "execution_count": 17,
     "metadata": {},
     "output_type": "execute_result"
    }
   ],
   "source": [
    "us_births['Avg_age_mother'].mean() "
   ]
  },
  {
   "cell_type": "code",
   "execution_count": 18,
   "id": "007ea906",
   "metadata": {},
   "outputs": [
    {
     "data": {
      "text/plain": [
       "29.7"
      ]
     },
     "execution_count": 18,
     "metadata": {},
     "output_type": "execute_result"
    }
   ],
   "source": [
    "us_births['Avg_age_mother'].median() "
   ]
  },
  {
   "cell_type": "code",
   "execution_count": 19,
   "id": "c34bd1aa",
   "metadata": {},
   "outputs": [
    {
     "data": {
      "text/plain": [
       "35.5"
      ]
     },
     "execution_count": 19,
     "metadata": {},
     "output_type": "execute_result"
    }
   ],
   "source": [
    "us_births['Avg_age_mother'].max() "
   ]
  },
  {
   "cell_type": "markdown",
   "id": "f03b6c42",
   "metadata": {},
   "source": [
    "## 3. Data prep for regression analysis"
   ]
  },
  {
   "cell_type": "code",
   "execution_count": 20,
   "id": "8200f111",
   "metadata": {},
   "outputs": [
    {
     "data": {
      "image/png": "[encoded data removed]",
      "text/plain": [
       "<Figure size 640x480 with 1 Axes>"
      ]
     },
     "metadata": {},
     "output_type": "display_data"
    }
   ],
   "source": [
    "# Making a scatterplot of education_code and avg_age_mother\n",
    "\n",
    "us_births.plot(x = 'Education_code', y = 'Avg_age_mother',style='o') # The style option creates a scatterplot; without it, we only have lines.\n",
    "plt.title('Education level vs Avg Age Mother')  \n",
    "plt.xlabel('Education_code')  \n",
    "plt.ylabel('Avg_age_mother')  \n",
    "plt.show()"
   ]
  },
  {
   "cell_type": "code",
   "execution_count": 21,
   "id": "95a1f16a",
   "metadata": {},
   "outputs": [
    {
     "data": {
      "image/png": "[encoded data removed]",
      "text/plain": [
       "<Figure size 640x480 with 1 Axes>"
      ]
     },
     "metadata": {},
     "output_type": "display_data"
    }
   ],
   "source": [
    "# Making a scatterplot of education_code and births\n",
    "\n",
    "us_births.plot(x = 'Education_code', y = 'Births',style='o') # The style option creates a scatterplot; without it, we only have lines.\n",
    "plt.title('Education level vs Births')  \n",
    "plt.xlabel('Education_code')  \n",
    "plt.ylabel('Births')  \n",
    "plt.show()"
   ]
  },
  {
   "cell_type": "code",
   "execution_count": 23,
   "id": "3f84cf26",
   "metadata": {},
   "outputs": [
    {
     "data": {
      "image/png": "[encoded data removed]",
      "text/plain": [
       "<Figure size 640x480 with 1 Axes>"
      ]
     },
     "metadata": {},
     "output_type": "display_data"
    }
   ],
   "source": [
    "# Making a scatterplot of avg_age_mother and avg_birth_weight\n",
    "\n",
    "us_births.plot(x = 'Avg_age_mother', y = 'Avg_birth_weight(g)',style='o') # The style option creates a scatterplot; without it, we only have lines.\n",
    "plt.title('Avg Age Mother vs Avg Birth Weight')  \n",
    "plt.xlabel('Avg_age_mother')  \n",
    "plt.ylabel('Avg_birth_weight(g)')  \n",
    "plt.show()"
   ]
  },
  {
   "cell_type": "markdown",
   "id": "4a209089",
   "metadata": {},
   "source": [
    "### Hypothesis to test: The older a woman is the higher level of education they will have."
   ]
  },
  {
   "cell_type": "code",
   "execution_count": 25,
   "id": "7b3e81ad",
   "metadata": {},
   "outputs": [],
   "source": [
    "# Reshape the variables into NumPy arrays and put them into separate objects.\n",
    "\n",
    "X = us_births['Education_code'].values.reshape(-1,1)\n",
    "y = us_births['Avg_age_mother'].values.reshape(-1,1)"
   ]
  },
  {
   "cell_type": "code",
   "execution_count": 26,
   "id": "34650ad4",
   "metadata": {},
   "outputs": [
    {
     "data": {
      "text/plain": [
       "array([[1],\n",
       "       [2],\n",
       "       [3],\n",
       "       ...,\n",
       "       [6],\n",
       "       [7],\n",
       "       [8]])"
      ]
     },
     "execution_count": 26,
     "metadata": {},
     "output_type": "execute_result"
    }
   ],
   "source": [
    "X"
   ]
  },
  {
   "cell_type": "code",
   "execution_count": 27,
   "id": "ba1cedfd",
   "metadata": {},
   "outputs": [],
   "source": [
    "# Split data into a training set and a test set.\n",
    "\n",
    "X_train, X_test, y_train, y_test = train_test_split(X, y, test_size=0.3, random_state=0)"
   ]
  },
  {
   "cell_type": "markdown",
   "id": "4f253e60",
   "metadata": {},
   "source": [
    "## 4. Regression analysis"
   ]
  },
  {
   "cell_type": "code",
   "execution_count": 28,
   "id": "c8f3da25",
   "metadata": {},
   "outputs": [],
   "source": [
    "# Create a regression object\n",
    "\n",
    "regression = LinearRegression()"
   ]
  },
  {
   "cell_type": "code",
   "execution_count": 29,
   "id": "4b9f02cc",
   "metadata": {},
   "outputs": [
    {
     "data": {
      "text/html": [
       "<style>#sk-container-id-1 {color: black;background-color: white;}#sk-container-id-1 pre{padding: 0;}#sk-container-id-1 div.sk-toggleable {background-color: white;}#sk-container-id-1 label.sk-toggleable__label {cursor: pointer;display: block;width: 100%;margin-bottom: 0;padding: 0.3em;box-sizing: border-box;text-align: center;}#sk-container-id-1 label.sk-toggleable__label-arrow:before {content: \"▸\";float: left;margin-right: 0.25em;color: #696969;}#sk-container-id-1 label.sk-toggleable__label-arrow:hover:before {color: black;}#sk-container-id-1 div.sk-estimator:hover label.sk-toggleable__label-arrow:before {color: black;}#sk-container-id-1 div.sk-toggleable__content {max-height: 0;max-width: 0;overflow: hidden;text-align: left;background-color: #f0f8ff;}#sk-container-id-1 div.sk-toggleable__content pre {margin: 0.2em;color: black;border-radius: 0.25em;background-color: #f0f8ff;}#sk-container-id-1 input.sk-toggleable__control:checked~div.sk-toggleable__content {max-height: 200px;max-width: 100%;overflow: auto;}#sk-container-id-1 input.sk-toggleable__control:checked~label.sk-toggleable__label-arrow:before {content: \"▾\";}#sk-container-id-1 div.sk-estimator input.sk-toggleable__control:checked~label.sk-toggleable__label {background-color: #d4ebff;}#sk-container-id-1 div.sk-label input.sk-toggleable__control:checked~label.sk-toggleable__label {background-color: #d4ebff;}#sk-container-id-1 input.sk-hidden--visually {border: 0;clip: rect(1px 1px 1px 1px);clip: rect(1px, 1px, 1px, 1px);height: 1px;margin: -1px;overflow: hidden;padding: 0;position: absolute;width: 1px;}#sk-container-id-1 div.sk-estimator {font-family: monospace;background-color: #f0f8ff;border: 1px dotted black;border-radius: 0.25em;box-sizing: border-box;margin-bottom: 0.5em;}#sk-container-id-1 div.sk-estimator:hover {background-color: #d4ebff;}#sk-container-id-1 div.sk-parallel-item::after {content: \"\";width: 100%;border-bottom: 1px solid gray;flex-grow: 1;}#sk-container-id-1 div.sk-label:hover label.sk-toggleable__label {background-color: #d4ebff;}#sk-container-id-1 div.sk-serial::before {content: \"\";position: absolute;border-left: 1px solid gray;box-sizing: border-box;top: 0;bottom: 0;left: 50%;z-index: 0;}#sk-container-id-1 div.sk-serial {display: flex;flex-direction: column;align-items: center;background-color: white;padding-right: 0.2em;padding-left: 0.2em;position: relative;}#sk-container-id-1 div.sk-item {position: relative;z-index: 1;}#sk-container-id-1 div.sk-parallel {display: flex;align-items: stretch;justify-content: center;background-color: white;position: relative;}#sk-container-id-1 div.sk-item::before, #sk-container-id-1 div.sk-parallel-item::before {content: \"\";position: absolute;border-left: 1px solid gray;box-sizing: border-box;top: 0;bottom: 0;left: 50%;z-index: -1;}#sk-container-id-1 div.sk-parallel-item {display: flex;flex-direction: column;z-index: 1;position: relative;background-color: white;}#sk-container-id-1 div.sk-parallel-item:first-child::after {align-self: flex-end;width: 50%;}#sk-container-id-1 div.sk-parallel-item:last-child::after {align-self: flex-start;width: 50%;}#sk-container-id-1 div.sk-parallel-item:only-child::after {width: 0;}#sk-container-id-1 div.sk-dashed-wrapped {border: 1px dashed gray;margin: 0 0.4em 0.5em 0.4em;box-sizing: border-box;padding-bottom: 0.4em;background-color: white;}#sk-container-id-1 div.sk-label label {font-family: monospace;font-weight: bold;display: inline-block;line-height: 1.2em;}#sk-container-id-1 div.sk-label-container {text-align: center;}#sk-container-id-1 div.sk-container {/* jupyter's `normalize.less` sets `[hidden] { display: none; }` but bootstrap.min.css set `[hidden] { display: none !important; }` so we also need the `!important` here to be able to override the default hidden behavior on the sphinx rendered scikit-learn.org. See: https://github.com/scikit-learn/scikit-learn/issues/21755 */display: inline-block !important;position: relative;}#sk-container-id-1 div.sk-text-repr-fallback {display: none;}</style><div id=\"sk-container-id-1\" class=\"sk-top-container\"><div class=\"sk-text-repr-fallback\"><pre>LinearRegression()</pre><b>In a Jupyter environment, please rerun this cell to show the HTML representation or trust the notebook. <br />On GitHub, the HTML representation is unable to render, please try loading this page with nbviewer.org.</b></div><div class=\"sk-container\" hidden><div class=\"sk-item\"><div class=\"sk-estimator sk-toggleable\"><input class=\"sk-toggleable__control sk-hidden--visually\" id=\"sk-estimator-id-1\" type=\"checkbox\" checked><label for=\"sk-estimator-id-1\" class=\"sk-toggleable__label sk-toggleable__label-arrow\">LinearRegression</label><div class=\"sk-toggleable__content\"><pre>LinearRegression()</pre></div></div></div></div></div>"
      ],
      "text/plain": [
       "LinearRegression()"
      ]
     },
     "execution_count": 29,
     "metadata": {},
     "output_type": "execute_result"
    }
   ],
   "source": [
    "# Fit the regression object onto the training set\n",
    "\n",
    "regression.fit(X_train, y_train)"
   ]
  },
  {
   "cell_type": "code",
   "execution_count": 30,
   "id": "abd0f86f",
   "metadata": {},
   "outputs": [],
   "source": [
    "# Predict the valyes of y using X.\n",
    "\n",
    "y_predicted = regression.predict(X_test)"
   ]
  },
  {
   "cell_type": "code",
   "execution_count": 31,
   "id": "72c65608",
   "metadata": {},
   "outputs": [
    {
     "data": {
      "image/png": "[encoded data removed]",
      "text/plain": [
       "<Figure size 640x480 with 1 Axes>"
      ]
     },
     "metadata": {},
     "output_type": "display_data"
    }
   ],
   "source": [
    "# Create a plot that shows the regression line from the model on the test set.\n",
    "\n",
    "plot_test = plt\n",
    "plot_test.scatter(X_test, y_test, color='gray', s = 15)\n",
    "plot_test.plot(X_test, y_predicted, color='red', linewidth =3)\n",
    "plot_test.title('Education Level vs Avg Age Mother (Test set)')\n",
    "plot_test.xlabel('Education_code')\n",
    "plot_test.ylabel('Avg_age_mother')\n",
    "plot_test.show()"
   ]
  },
  {
   "cell_type": "markdown",
   "id": "bf94a602",
   "metadata": {},
   "source": [
    "#### I think the regression line semi-accurately fits to the test set. For instance, it misses a lot of the education 1 points (probably because that is education 8th grade and less which majority of woman regardless of age complete before they have a child). "
   ]
  },
  {
   "cell_type": "code",
   "execution_count": 32,
   "id": "a52168ba",
   "metadata": {},
   "outputs": [],
   "source": [
    "# Create objects that contain the model summary statistics.\n",
    "\n",
    "rmse = mean_squared_error(y_test, y_predicted) # This is the mean squared error\n",
    "r2 = r2_score(y_test, y_predicted) # This is the R2 score. "
   ]
  },
  {
   "cell_type": "code",
   "execution_count": 33,
   "id": "cf7e108c",
   "metadata": {},
   "outputs": [
    {
     "name": "stdout",
     "output_type": "stream",
     "text": [
      "Slope: [[1.0060374]]\n",
      "Mean squared error:  3.227825634300819\n",
      "R2 score:  0.6206545952011513\n"
     ]
    }
   ],
   "source": [
    "# Print the model summary statistics.\n",
    "\n",
    "print('Slope:' ,regression.coef_)\n",
    "print('Mean squared error: ', rmse)\n",
    "print('R2 score: ', r2)"
   ]
  },
  {
   "cell_type": "code",
   "execution_count": 34,
   "id": "b6eea250",
   "metadata": {},
   "outputs": [
    {
     "data": {
      "text/plain": [
       "array([[33.08880691],\n",
       "       [28.05861989],\n",
       "       [29.06465729],\n",
       "       ...,\n",
       "       [28.05861989],\n",
       "       [28.05861989],\n",
       "       [29.06465729]])"
      ]
     },
     "execution_count": 34,
     "metadata": {},
     "output_type": "execute_result"
    }
   ],
   "source": [
    "y_predicted "
   ]
  },
  {
   "cell_type": "code",
   "execution_count": 35,
   "id": "badfe2ca",
   "metadata": {},
   "outputs": [
    {
     "data": {
      "text/html": [
       "<div>\n",
       "<style scoped>\n",
       "    .dataframe tbody tr th:only-of-type {\n",
       "        vertical-align: middle;\n",
       "    }\n",
       "\n",
       "    .dataframe tbody tr th {\n",
       "        vertical-align: top;\n",
       "    }\n",
       "\n",
       "    .dataframe thead th {\n",
       "        text-align: right;\n",
       "    }\n",
       "</style>\n",
       "<table border=\"1\" class=\"dataframe\">\n",
       "  <thead>\n",
       "    <tr style=\"text-align: right;\">\n",
       "      <th></th>\n",
       "      <th>Actual</th>\n",
       "      <th>Predicted</th>\n",
       "    </tr>\n",
       "  </thead>\n",
       "  <tbody>\n",
       "    <tr>\n",
       "      <th>0</th>\n",
       "      <td>33.3</td>\n",
       "      <td>33.088807</td>\n",
       "    </tr>\n",
       "    <tr>\n",
       "      <th>1</th>\n",
       "      <td>25.5</td>\n",
       "      <td>28.058620</td>\n",
       "    </tr>\n",
       "    <tr>\n",
       "      <th>2</th>\n",
       "      <td>27.8</td>\n",
       "      <td>29.064657</td>\n",
       "    </tr>\n",
       "    <tr>\n",
       "      <th>3</th>\n",
       "      <td>32.6</td>\n",
       "      <td>32.082770</td>\n",
       "    </tr>\n",
       "    <tr>\n",
       "      <th>4</th>\n",
       "      <td>29.8</td>\n",
       "      <td>30.070695</td>\n",
       "    </tr>\n",
       "    <tr>\n",
       "      <th>5</th>\n",
       "      <td>34.1</td>\n",
       "      <td>33.088807</td>\n",
       "    </tr>\n",
       "    <tr>\n",
       "      <th>6</th>\n",
       "      <td>24.7</td>\n",
       "      <td>27.052582</td>\n",
       "    </tr>\n",
       "    <tr>\n",
       "      <th>7</th>\n",
       "      <td>28.9</td>\n",
       "      <td>29.064657</td>\n",
       "    </tr>\n",
       "    <tr>\n",
       "      <th>8</th>\n",
       "      <td>30.8</td>\n",
       "      <td>26.046545</td>\n",
       "    </tr>\n",
       "    <tr>\n",
       "      <th>9</th>\n",
       "      <td>31.4</td>\n",
       "      <td>31.076732</td>\n",
       "    </tr>\n",
       "    <tr>\n",
       "      <th>10</th>\n",
       "      <td>26.8</td>\n",
       "      <td>28.058620</td>\n",
       "    </tr>\n",
       "    <tr>\n",
       "      <th>11</th>\n",
       "      <td>27.3</td>\n",
       "      <td>28.058620</td>\n",
       "    </tr>\n",
       "    <tr>\n",
       "      <th>12</th>\n",
       "      <td>25.6</td>\n",
       "      <td>28.058620</td>\n",
       "    </tr>\n",
       "    <tr>\n",
       "      <th>13</th>\n",
       "      <td>30.4</td>\n",
       "      <td>30.070695</td>\n",
       "    </tr>\n",
       "    <tr>\n",
       "      <th>14</th>\n",
       "      <td>30.4</td>\n",
       "      <td>30.070695</td>\n",
       "    </tr>\n",
       "    <tr>\n",
       "      <th>15</th>\n",
       "      <td>24.4</td>\n",
       "      <td>27.052582</td>\n",
       "    </tr>\n",
       "    <tr>\n",
       "      <th>16</th>\n",
       "      <td>29.5</td>\n",
       "      <td>30.070695</td>\n",
       "    </tr>\n",
       "    <tr>\n",
       "      <th>17</th>\n",
       "      <td>33.0</td>\n",
       "      <td>32.082770</td>\n",
       "    </tr>\n",
       "    <tr>\n",
       "      <th>18</th>\n",
       "      <td>30.3</td>\n",
       "      <td>31.076732</td>\n",
       "    </tr>\n",
       "    <tr>\n",
       "      <th>19</th>\n",
       "      <td>24.0</td>\n",
       "      <td>27.052582</td>\n",
       "    </tr>\n",
       "    <tr>\n",
       "      <th>20</th>\n",
       "      <td>31.1</td>\n",
       "      <td>30.070695</td>\n",
       "    </tr>\n",
       "    <tr>\n",
       "      <th>21</th>\n",
       "      <td>26.2</td>\n",
       "      <td>28.058620</td>\n",
       "    </tr>\n",
       "    <tr>\n",
       "      <th>22</th>\n",
       "      <td>29.0</td>\n",
       "      <td>26.046545</td>\n",
       "    </tr>\n",
       "    <tr>\n",
       "      <th>23</th>\n",
       "      <td>29.0</td>\n",
       "      <td>30.070695</td>\n",
       "    </tr>\n",
       "    <tr>\n",
       "      <th>24</th>\n",
       "      <td>27.9</td>\n",
       "      <td>29.064657</td>\n",
       "    </tr>\n",
       "    <tr>\n",
       "      <th>25</th>\n",
       "      <td>30.2</td>\n",
       "      <td>26.046545</td>\n",
       "    </tr>\n",
       "    <tr>\n",
       "      <th>26</th>\n",
       "      <td>30.7</td>\n",
       "      <td>26.046545</td>\n",
       "    </tr>\n",
       "    <tr>\n",
       "      <th>27</th>\n",
       "      <td>27.9</td>\n",
       "      <td>29.064657</td>\n",
       "    </tr>\n",
       "    <tr>\n",
       "      <th>28</th>\n",
       "      <td>34.3</td>\n",
       "      <td>33.088807</td>\n",
       "    </tr>\n",
       "    <tr>\n",
       "      <th>29</th>\n",
       "      <td>25.9</td>\n",
       "      <td>28.058620</td>\n",
       "    </tr>\n",
       "  </tbody>\n",
       "</table>\n",
       "</div>"
      ],
      "text/plain": [
       "    Actual  Predicted\n",
       "0     33.3  33.088807\n",
       "1     25.5  28.058620\n",
       "2     27.8  29.064657\n",
       "3     32.6  32.082770\n",
       "4     29.8  30.070695\n",
       "5     34.1  33.088807\n",
       "6     24.7  27.052582\n",
       "7     28.9  29.064657\n",
       "8     30.8  26.046545\n",
       "9     31.4  31.076732\n",
       "10    26.8  28.058620\n",
       "11    27.3  28.058620\n",
       "12    25.6  28.058620\n",
       "13    30.4  30.070695\n",
       "14    30.4  30.070695\n",
       "15    24.4  27.052582\n",
       "16    29.5  30.070695\n",
       "17    33.0  32.082770\n",
       "18    30.3  31.076732\n",
       "19    24.0  27.052582\n",
       "20    31.1  30.070695\n",
       "21    26.2  28.058620\n",
       "22    29.0  26.046545\n",
       "23    29.0  30.070695\n",
       "24    27.9  29.064657\n",
       "25    30.2  26.046545\n",
       "26    30.7  26.046545\n",
       "27    27.9  29.064657\n",
       "28    34.3  33.088807\n",
       "29    25.9  28.058620"
      ]
     },
     "execution_count": 35,
     "metadata": {},
     "output_type": "execute_result"
    }
   ],
   "source": [
    "# Create a dataframe comparing the actual and predicted values of y\n",
    "\n",
    "data = pd.DataFrame({'Actual': y_test.flatten(), 'Predicted': y_predicted.flatten()})\n",
    "data.head(30)"
   ]
  },
  {
   "cell_type": "markdown",
   "id": "29b0ca3b",
   "metadata": {},
   "source": [
    "#### The mean squared error is 3.23 which is relatively small, indicating that a regression model may be good to represent this data. The R2 score of .62 indicates that this does an okay good of performing and predicting the influence of education level and avg age (however it is far from perfect, which would be closer to 1). Looking at the actual and predicted values a majority are off indicating that the regression model may not be great to represent this data. I wonder if education code 1 is throwing off the accuracy of the regression model. I don't think there are any biases.\n"
   ]
  },
  {
   "cell_type": "code",
   "execution_count": null,
   "id": "bb3fbb07",
   "metadata": {},
   "outputs": [],
   "source": []
  }
 ],
 "metadata": {
  "kernelspec": {
   "display_name": "Python 3 (ipykernel)",
   "language": "python",
   "name": "python3"
  },
  "language_info": {
   "codemirror_mode": {
    "name": "ipython",
    "version": 3
   },
   "file_extension": ".py",
   "mimetype": "text/x-python",
   "name": "python",
   "nbconvert_exporter": "python",
   "pygments_lexer": "ipython3",
   "version": "3.10.9"
  }
 },
 "nbformat": 4,
 "nbformat_minor": 5
}
